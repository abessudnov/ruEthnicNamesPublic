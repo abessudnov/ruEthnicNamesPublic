{
 "cells": [
  {
   "cell_type": "code",
   "execution_count": 1,
   "metadata": {},
   "outputs": [],
   "source": [
    "import numpy as np\n",
    "import pandas as pd\n",
    "\n",
    "from sklearn.pipeline import Pipeline\n",
    "from sklearn.feature_extraction.text import CountVectorizer\n",
    "\n",
    "from sklearn.linear_model import SGDClassifier\n",
    "\n",
    "from data_utils import *\n",
    "from models_utils import *\n",
    "from pkl_utils import *"
   ]
  },
  {
   "cell_type": "code",
   "execution_count": 4,
   "metadata": {},
   "outputs": [],
   "source": [
    "clf = load_pkl('models/all_classes_model.pkl')\n",
    "le = load_pkl('models/label_encoder.pkl')\n",
    "clf_agr = load_pkl('models/aggregated_classes_model.pkl')\n",
    "le_agr = load_pkl('models/aggregated_label_encoder.pkl')"
   ]
  },
  {
   "cell_type": "code",
   "execution_count": 5,
   "metadata": {},
   "outputs": [],
   "source": [
    "def proc_table(name):\n",
    "    # loading and preparing data\n",
    "    df = pd.read_csv(name, index_col=0).sample(2000)\n",
    "    df['confidence'] = [100] * len(df)\n",
    "    df['sex'] = [1] * len(df)\n",
    "    df_translit_ru = filter_data(df, use_regex=False)\n",
    "    _, X_train, X_test, y_train, y_test = split_data(df_translit_ru, test_size=0.0)\n",
    "    # Obtaining predictions\n",
    "    pred = clf.predict(X_train)\n",
    "    pred_agr = clf_agr.predict(X_train)\n",
    "    pred = le.inverse_transform(list(map(int, pred)))\n",
    "    pred_agr = le_agr.inverse_transform(list(map(int, pred_agr)))\n",
    "    # Saving predictions\n",
    "    df_translit_ru['pred'] = pred\n",
    "    df_translit_ru['pred_agr'] = pred_agr\n",
    "    df_translit_ru.drop(['ethn', 'confidence', 'sex'], axis=1).to_csv(name[:-4] + '_pred.csv', index=False)\n",
    "    "
   ]
  },
  {
   "cell_type": "code",
   "execution_count": 7,
   "metadata": {},
   "outputs": [],
   "source": [
    "proc_table('kazan.csv') # File is not published"
   ]
  },
  {
   "cell_type": "code",
   "execution_count": 8,
   "metadata": {},
   "outputs": [],
   "source": [
    "proc_table('moscow.csv') # File is not published"
   ]
  },
  {
   "cell_type": "code",
   "execution_count": null,
   "metadata": {},
   "outputs": [],
   "source": []
  }
 ],
 "metadata": {
  "kernelspec": {
   "display_name": "Python 3",
   "language": "python",
   "name": "python3"
  },
  "language_info": {
   "codemirror_mode": {
    "name": "ipython",
    "version": 3
   },
   "file_extension": ".py",
   "mimetype": "text/x-python",
   "name": "python",
   "nbconvert_exporter": "python",
   "pygments_lexer": "ipython3",
   "version": "3.7.9"
  }
 },
 "nbformat": 4,
 "nbformat_minor": 4
}
