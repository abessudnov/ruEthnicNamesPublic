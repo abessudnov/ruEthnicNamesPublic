{
 "cells": [
  {
   "cell_type": "code",
   "execution_count": 1,
   "metadata": {},
   "outputs": [],
   "source": [
    "import numpy as np\n",
    "import pandas as pd\n",
    "\n",
    "from sklearn.pipeline import Pipeline\n",
    "from sklearn.feature_extraction.text import CountVectorizer\n",
    "\n",
    "from sklearn.linear_model import SGDClassifier\n",
    "\n",
    "from data_utils import *\n",
    "from models_utils import *\n",
    "from pkl_utils import *"
   ]
  },
  {
   "cell_type": "code",
   "execution_count": 2,
   "metadata": {},
   "outputs": [],
   "source": [
    "# load pretrained models\n",
    "clf = load_pkl('models/all_classes_model.pkl')\n",
    "clf_agr = load_pkl('models/aggregated_classes_model.pkl')\n",
    "le = load_pkl('models/label_encoder.pkl')\n",
    "le_a = load_pkl('models/aggregated_label_encoder.pkl')"
   ]
  },
  {
   "cell_type": "markdown",
   "metadata": {},
   "source": [
    "# Preparing Memorial dataset for classification"
   ]
  },
  {
   "cell_type": "code",
   "execution_count": 3,
   "metadata": {},
   "outputs": [
    {
     "name": "stderr",
     "output_type": "stream",
     "text": [
      "C:\\Users\\DT6\\anaconda3\\envs\\ethnicNames\\lib\\site-packages\\IPython\\core\\interactiveshell.py:3146: DtypeWarning: Columns (4,6,7) have mixed types.Specify dtype option on import or set low_memory=False.\n",
      "  interactivity=interactivity, compiler=compiler, result=result)\n"
     ]
    }
   ],
   "source": [
    "df = pd.read_csv('../data/cleanedMemo2.csv')"
   ]
  },
  {
   "cell_type": "code",
   "execution_count": 4,
   "metadata": {},
   "outputs": [],
   "source": [
    "df = df.dropna()"
   ]
  },
  {
   "cell_type": "code",
   "execution_count": 5,
   "metadata": {},
   "outputs": [],
   "source": [
    "df = df.rename(columns={'FNAME': 'last_name', 'NAME': 'first_name', 'GENDER': 'sex'})"
   ]
  },
  {
   "cell_type": "code",
   "execution_count": 6,
   "metadata": {},
   "outputs": [],
   "source": [
    "df['sex'] = df['sex'].apply(lambda x: 1 if x == 'ж' else 2)"
   ]
  },
  {
   "cell_type": "code",
   "execution_count": 7,
   "metadata": {},
   "outputs": [],
   "source": [
    "df['confidence'] = [100] * len(df)"
   ]
  },
  {
   "cell_type": "code",
   "execution_count": 8,
   "metadata": {},
   "outputs": [
    {
     "data": {
      "text/html": [
       "<div>\n",
       "<style scoped>\n",
       "    .dataframe tbody tr th:only-of-type {\n",
       "        vertical-align: middle;\n",
       "    }\n",
       "\n",
       "    .dataframe tbody tr th {\n",
       "        vertical-align: top;\n",
       "    }\n",
       "\n",
       "    .dataframe thead th {\n",
       "        text-align: right;\n",
       "    }\n",
       "</style>\n",
       "<table border=\"1\" class=\"dataframe\">\n",
       "  <thead>\n",
       "    <tr style=\"text-align: right;\">\n",
       "      <th></th>\n",
       "      <th>PERSONID</th>\n",
       "      <th>last_name</th>\n",
       "      <th>first_name</th>\n",
       "      <th>LNAME</th>\n",
       "      <th>NATION</th>\n",
       "      <th>sex</th>\n",
       "      <th>ethn</th>\n",
       "      <th>ethnAggr</th>\n",
       "      <th>confidence</th>\n",
       "    </tr>\n",
       "  </thead>\n",
       "  <tbody>\n",
       "    <tr>\n",
       "      <th>0</th>\n",
       "      <td>1</td>\n",
       "      <td>Авганов</td>\n",
       "      <td>Эрдни</td>\n",
       "      <td>Болдырович</td>\n",
       "      <td>калмык</td>\n",
       "      <td>2</td>\n",
       "      <td>Kalmyk</td>\n",
       "      <td>Kalmyk</td>\n",
       "      <td>100</td>\n",
       "    </tr>\n",
       "    <tr>\n",
       "      <th>1</th>\n",
       "      <td>2</td>\n",
       "      <td>Агальчанова</td>\n",
       "      <td>Соня</td>\n",
       "      <td>Батнасуновна</td>\n",
       "      <td>калмычка</td>\n",
       "      <td>1</td>\n",
       "      <td>Kalmyk</td>\n",
       "      <td>Kalmyk</td>\n",
       "      <td>100</td>\n",
       "    </tr>\n",
       "    <tr>\n",
       "      <th>2</th>\n",
       "      <td>3</td>\n",
       "      <td>Аджагулов</td>\n",
       "      <td>Цага</td>\n",
       "      <td>Аджагулович</td>\n",
       "      <td>калмык</td>\n",
       "      <td>2</td>\n",
       "      <td>Kalmyk</td>\n",
       "      <td>Kalmyk</td>\n",
       "      <td>100</td>\n",
       "    </tr>\n",
       "    <tr>\n",
       "      <th>3</th>\n",
       "      <td>4</td>\n",
       "      <td>Аджигиров</td>\n",
       "      <td>Мухла</td>\n",
       "      <td>Манджиевич</td>\n",
       "      <td>калмык</td>\n",
       "      <td>2</td>\n",
       "      <td>Kalmyk</td>\n",
       "      <td>Kalmyk</td>\n",
       "      <td>100</td>\n",
       "    </tr>\n",
       "    <tr>\n",
       "      <th>4</th>\n",
       "      <td>5</td>\n",
       "      <td>Адучаева</td>\n",
       "      <td>Пелагея</td>\n",
       "      <td>Чанкишеевна</td>\n",
       "      <td>калмычка</td>\n",
       "      <td>1</td>\n",
       "      <td>Kalmyk</td>\n",
       "      <td>Kalmyk</td>\n",
       "      <td>100</td>\n",
       "    </tr>\n",
       "    <tr>\n",
       "      <th>...</th>\n",
       "      <td>...</td>\n",
       "      <td>...</td>\n",
       "      <td>...</td>\n",
       "      <td>...</td>\n",
       "      <td>...</td>\n",
       "      <td>...</td>\n",
       "      <td>...</td>\n",
       "      <td>...</td>\n",
       "      <td>...</td>\n",
       "    </tr>\n",
       "    <tr>\n",
       "      <th>2704390</th>\n",
       "      <td>2704397</td>\n",
       "      <td>Тамарин</td>\n",
       "      <td>Михаил</td>\n",
       "      <td>Иосифович</td>\n",
       "      <td>еврей</td>\n",
       "      <td>2</td>\n",
       "      <td>Jewish</td>\n",
       "      <td>Jewish</td>\n",
       "      <td>100</td>\n",
       "    </tr>\n",
       "    <tr>\n",
       "      <th>2704391</th>\n",
       "      <td>2704398</td>\n",
       "      <td>Шмидт-Нерославская</td>\n",
       "      <td>Любовь</td>\n",
       "      <td>Борисовна</td>\n",
       "      <td>еврейка</td>\n",
       "      <td>1</td>\n",
       "      <td>Jewish</td>\n",
       "      <td>Jewish</td>\n",
       "      <td>100</td>\n",
       "    </tr>\n",
       "    <tr>\n",
       "      <th>2704392</th>\n",
       "      <td>2704399</td>\n",
       "      <td>Штерн</td>\n",
       "      <td>Евгения</td>\n",
       "      <td>Александровна</td>\n",
       "      <td>русская</td>\n",
       "      <td>1</td>\n",
       "      <td>Russian</td>\n",
       "      <td>BelRusUkr</td>\n",
       "      <td>100</td>\n",
       "    </tr>\n",
       "    <tr>\n",
       "      <th>2704396</th>\n",
       "      <td>2704403</td>\n",
       "      <td>Гуревич</td>\n",
       "      <td>Элиазар</td>\n",
       "      <td>Ильич</td>\n",
       "      <td>еврей</td>\n",
       "      <td>2</td>\n",
       "      <td>Jewish</td>\n",
       "      <td>Jewish</td>\n",
       "      <td>100</td>\n",
       "    </tr>\n",
       "    <tr>\n",
       "      <th>2704397</th>\n",
       "      <td>2704404</td>\n",
       "      <td>Шолохов</td>\n",
       "      <td>Борис</td>\n",
       "      <td>Иванович</td>\n",
       "      <td>русский</td>\n",
       "      <td>2</td>\n",
       "      <td>Russian</td>\n",
       "      <td>BelRusUkr</td>\n",
       "      <td>100</td>\n",
       "    </tr>\n",
       "  </tbody>\n",
       "</table>\n",
       "<p>847240 rows × 9 columns</p>\n",
       "</div>"
      ],
      "text/plain": [
       "         PERSONID           last_name first_name          LNAME    NATION  \\\n",
       "0               1             Авганов      Эрдни     Болдырович    калмык   \n",
       "1               2         Агальчанова       Соня   Батнасуновна  калмычка   \n",
       "2               3           Аджагулов       Цага    Аджагулович    калмык   \n",
       "3               4           Аджигиров      Мухла     Манджиевич    калмык   \n",
       "4               5            Адучаева    Пелагея    Чанкишеевна  калмычка   \n",
       "...           ...                 ...        ...            ...       ...   \n",
       "2704390   2704397             Тамарин     Михаил      Иосифович     еврей   \n",
       "2704391   2704398  Шмидт-Нерославская     Любовь      Борисовна   еврейка   \n",
       "2704392   2704399               Штерн    Евгения  Александровна   русская   \n",
       "2704396   2704403             Гуревич    Элиазар          Ильич     еврей   \n",
       "2704397   2704404             Шолохов      Борис       Иванович   русский   \n",
       "\n",
       "         sex     ethn   ethnAggr  confidence  \n",
       "0          2   Kalmyk     Kalmyk         100  \n",
       "1          1   Kalmyk     Kalmyk         100  \n",
       "2          2   Kalmyk     Kalmyk         100  \n",
       "3          2   Kalmyk     Kalmyk         100  \n",
       "4          1   Kalmyk     Kalmyk         100  \n",
       "...      ...      ...        ...         ...  \n",
       "2704390    2   Jewish     Jewish         100  \n",
       "2704391    1   Jewish     Jewish         100  \n",
       "2704392    1  Russian  BelRusUkr         100  \n",
       "2704396    2   Jewish     Jewish         100  \n",
       "2704397    2  Russian  BelRusUkr         100  \n",
       "\n",
       "[847240 rows x 9 columns]"
      ]
     },
     "execution_count": 8,
     "metadata": {},
     "output_type": "execute_result"
    }
   ],
   "source": [
    "df"
   ]
  },
  {
   "cell_type": "code",
   "execution_count": 9,
   "metadata": {},
   "outputs": [],
   "source": [
    "#df = df.append(pd.Series([99999999999, 'Александрова', 'Аялга', '', '', 1, 'Tuvan', 'Tuvan', 100], index=df.columns, name='e'))"
   ]
  },
  {
   "cell_type": "code",
   "execution_count": 10,
   "metadata": {},
   "outputs": [],
   "source": [
    "df_translit_ru = filter_data(df)"
   ]
  },
  {
   "cell_type": "code",
   "execution_count": 11,
   "metadata": {},
   "outputs": [
    {
     "data": {
      "text/html": [
       "<div>\n",
       "<style scoped>\n",
       "    .dataframe tbody tr th:only-of-type {\n",
       "        vertical-align: middle;\n",
       "    }\n",
       "\n",
       "    .dataframe tbody tr th {\n",
       "        vertical-align: top;\n",
       "    }\n",
       "\n",
       "    .dataframe thead th {\n",
       "        text-align: right;\n",
       "    }\n",
       "</style>\n",
       "<table border=\"1\" class=\"dataframe\">\n",
       "  <thead>\n",
       "    <tr style=\"text-align: right;\">\n",
       "      <th></th>\n",
       "      <th>PERSONID</th>\n",
       "      <th>last_name</th>\n",
       "      <th>first_name</th>\n",
       "      <th>LNAME</th>\n",
       "      <th>NATION</th>\n",
       "      <th>sex</th>\n",
       "      <th>ethn</th>\n",
       "      <th>ethnAggr</th>\n",
       "      <th>confidence</th>\n",
       "    </tr>\n",
       "  </thead>\n",
       "  <tbody>\n",
       "    <tr>\n",
       "      <th>0</th>\n",
       "      <td>1</td>\n",
       "      <td>Авганов</td>\n",
       "      <td>Эрдни</td>\n",
       "      <td>Болдырович</td>\n",
       "      <td>калмык</td>\n",
       "      <td>2</td>\n",
       "      <td>Kalmyk</td>\n",
       "      <td>Kalmyk</td>\n",
       "      <td>100</td>\n",
       "    </tr>\n",
       "    <tr>\n",
       "      <th>1</th>\n",
       "      <td>2</td>\n",
       "      <td>Агальчанова</td>\n",
       "      <td>Соня</td>\n",
       "      <td>Батнасуновна</td>\n",
       "      <td>калмычка</td>\n",
       "      <td>1</td>\n",
       "      <td>Kalmyk</td>\n",
       "      <td>Kalmyk</td>\n",
       "      <td>100</td>\n",
       "    </tr>\n",
       "    <tr>\n",
       "      <th>2</th>\n",
       "      <td>3</td>\n",
       "      <td>Аджагулов</td>\n",
       "      <td>Цага</td>\n",
       "      <td>Аджагулович</td>\n",
       "      <td>калмык</td>\n",
       "      <td>2</td>\n",
       "      <td>Kalmyk</td>\n",
       "      <td>Kalmyk</td>\n",
       "      <td>100</td>\n",
       "    </tr>\n",
       "    <tr>\n",
       "      <th>3</th>\n",
       "      <td>4</td>\n",
       "      <td>Аджигиров</td>\n",
       "      <td>Мухла</td>\n",
       "      <td>Манджиевич</td>\n",
       "      <td>калмык</td>\n",
       "      <td>2</td>\n",
       "      <td>Kalmyk</td>\n",
       "      <td>Kalmyk</td>\n",
       "      <td>100</td>\n",
       "    </tr>\n",
       "    <tr>\n",
       "      <th>4</th>\n",
       "      <td>5</td>\n",
       "      <td>Адучаева</td>\n",
       "      <td>Пелагея</td>\n",
       "      <td>Чанкишеевна</td>\n",
       "      <td>калмычка</td>\n",
       "      <td>1</td>\n",
       "      <td>Kalmyk</td>\n",
       "      <td>Kalmyk</td>\n",
       "      <td>100</td>\n",
       "    </tr>\n",
       "    <tr>\n",
       "      <th>...</th>\n",
       "      <td>...</td>\n",
       "      <td>...</td>\n",
       "      <td>...</td>\n",
       "      <td>...</td>\n",
       "      <td>...</td>\n",
       "      <td>...</td>\n",
       "      <td>...</td>\n",
       "      <td>...</td>\n",
       "      <td>...</td>\n",
       "    </tr>\n",
       "    <tr>\n",
       "      <th>2704390</th>\n",
       "      <td>2704397</td>\n",
       "      <td>Тамарин</td>\n",
       "      <td>Михаил</td>\n",
       "      <td>Иосифович</td>\n",
       "      <td>еврей</td>\n",
       "      <td>2</td>\n",
       "      <td>Jewish</td>\n",
       "      <td>Jewish</td>\n",
       "      <td>100</td>\n",
       "    </tr>\n",
       "    <tr>\n",
       "      <th>2704391</th>\n",
       "      <td>2704398</td>\n",
       "      <td>Шмидт-Нерославская</td>\n",
       "      <td>Любовь</td>\n",
       "      <td>Борисовна</td>\n",
       "      <td>еврейка</td>\n",
       "      <td>1</td>\n",
       "      <td>Jewish</td>\n",
       "      <td>Jewish</td>\n",
       "      <td>100</td>\n",
       "    </tr>\n",
       "    <tr>\n",
       "      <th>2704392</th>\n",
       "      <td>2704399</td>\n",
       "      <td>Штерн</td>\n",
       "      <td>Евгения</td>\n",
       "      <td>Александровна</td>\n",
       "      <td>русская</td>\n",
       "      <td>1</td>\n",
       "      <td>Russian</td>\n",
       "      <td>BelRusUkr</td>\n",
       "      <td>100</td>\n",
       "    </tr>\n",
       "    <tr>\n",
       "      <th>2704396</th>\n",
       "      <td>2704403</td>\n",
       "      <td>Гуревич</td>\n",
       "      <td>Элиазар</td>\n",
       "      <td>Ильич</td>\n",
       "      <td>еврей</td>\n",
       "      <td>2</td>\n",
       "      <td>Jewish</td>\n",
       "      <td>Jewish</td>\n",
       "      <td>100</td>\n",
       "    </tr>\n",
       "    <tr>\n",
       "      <th>2704397</th>\n",
       "      <td>2704404</td>\n",
       "      <td>Шолохов</td>\n",
       "      <td>Борис</td>\n",
       "      <td>Иванович</td>\n",
       "      <td>русский</td>\n",
       "      <td>2</td>\n",
       "      <td>Russian</td>\n",
       "      <td>BelRusUkr</td>\n",
       "      <td>100</td>\n",
       "    </tr>\n",
       "  </tbody>\n",
       "</table>\n",
       "<p>845462 rows × 9 columns</p>\n",
       "</div>"
      ],
      "text/plain": [
       "         PERSONID           last_name first_name          LNAME    NATION  \\\n",
       "0               1             Авганов      Эрдни     Болдырович    калмык   \n",
       "1               2         Агальчанова       Соня   Батнасуновна  калмычка   \n",
       "2               3           Аджагулов       Цага    Аджагулович    калмык   \n",
       "3               4           Аджигиров      Мухла     Манджиевич    калмык   \n",
       "4               5            Адучаева    Пелагея    Чанкишеевна  калмычка   \n",
       "...           ...                 ...        ...            ...       ...   \n",
       "2704390   2704397             Тамарин     Михаил      Иосифович     еврей   \n",
       "2704391   2704398  Шмидт-Нерославская     Любовь      Борисовна   еврейка   \n",
       "2704392   2704399               Штерн    Евгения  Александровна   русская   \n",
       "2704396   2704403             Гуревич    Элиазар          Ильич     еврей   \n",
       "2704397   2704404             Шолохов      Борис       Иванович   русский   \n",
       "\n",
       "         sex     ethn   ethnAggr  confidence  \n",
       "0          2   Kalmyk     Kalmyk         100  \n",
       "1          1   Kalmyk     Kalmyk         100  \n",
       "2          2   Kalmyk     Kalmyk         100  \n",
       "3          2   Kalmyk     Kalmyk         100  \n",
       "4          1   Kalmyk     Kalmyk         100  \n",
       "...      ...      ...        ...         ...  \n",
       "2704390    2   Jewish     Jewish         100  \n",
       "2704391    1   Jewish     Jewish         100  \n",
       "2704392    1  Russian  BelRusUkr         100  \n",
       "2704396    2   Jewish     Jewish         100  \n",
       "2704397    2  Russian  BelRusUkr         100  \n",
       "\n",
       "[845462 rows x 9 columns]"
      ]
     },
     "execution_count": 11,
     "metadata": {},
     "output_type": "execute_result"
    }
   ],
   "source": [
    "df_translit_ru"
   ]
  },
  {
   "cell_type": "code",
   "execution_count": 12,
   "metadata": {},
   "outputs": [
    {
     "data": {
      "text/plain": [
       "23"
      ]
     },
     "execution_count": 12,
     "metadata": {},
     "output_type": "execute_result"
    }
   ],
   "source": [
    "len(df_translit_ru.ethn.value_counts())"
   ]
  },
  {
   "cell_type": "markdown",
   "metadata": {},
   "source": [
    "# Checking perfomance for Memorial data"
   ]
  },
  {
   "cell_type": "code",
   "execution_count": 19,
   "metadata": {},
   "outputs": [
    {
     "name": "stdout",
     "output_type": "stream",
     "text": [
      "ERROR! Session/line number was not unique in database. History logging moved to new session 514\n"
     ]
    }
   ],
   "source": [
    "_, X_train, X_test, y_train, y_test = split_data(df_translit_ru, test_size=0.0, le=le)"
   ]
  },
  {
   "cell_type": "code",
   "execution_count": 20,
   "metadata": {},
   "outputs": [],
   "source": [
    "X_train = X_train[:-1]\n",
    "y_train = y_train[:-1]"
   ]
  },
  {
   "cell_type": "code",
   "execution_count": 21,
   "metadata": {},
   "outputs": [
    {
     "data": {
      "image/png": "[encoded data removed]",
      "text/plain": [
       "<Figure size 504x302.4 with 1 Axes>"
      ]
     },
     "metadata": {},
     "output_type": "display_data"
    },
    {
     "name": "stdout",
     "output_type": "stream",
     "text": [
      "Ethnos          Acc\tPrec\tRec\tF1\n",
      "Armenian       \t0.9982\t0.8325\t0.6730\t0.7443\n",
      "Azerbaijani    \t0.9967\t0.0349\t0.3556\t0.0635\n",
      "Bashkir        \t0.9838\t0.2595\t0.7119\t0.3803\n",
      "Belarusian     \t0.8382\t0.3034\t0.6778\t0.4192\n",
      "Buryat         \t0.9939\t0.3062\t0.5244\t0.3866\n",
      "Chechen        \t0.9913\t0.0339\t0.5396\t0.0638\n",
      "Dagestani      \t0.9896\t0.0119\t0.4160\t0.0231\n",
      "Georgian       \t0.9990\t0.6914\t0.8761\t0.7729\n",
      "Ingush         \t0.9990\t0.4097\t0.5932\t0.4847\n",
      "Jewish         \t0.9677\t0.6954\t0.6673\t0.6811\n",
      "KabardinAdyghe \t0.9940\t0.5933\t0.4931\t0.5385\n",
      "Kalmyk         \t0.9968\t0.6828\t0.7019\t0.6922\n",
      "KarachayBalkar \t0.9638\t0.9747\t0.3879\t0.5549\n",
      "Kazakh         \t0.9919\t0.1375\t0.5053\t0.2162\n",
      "Kyrgyz         \t0.9952\t0.0012\t0.1724\t0.0025\n",
      "Moldovan       \t0.9903\t0.0706\t0.3747\t0.1188\n",
      "Ossetian       \t0.9910\t0.2648\t0.7291\t0.3885\n",
      "Russian        \t0.8139\t0.9400\t0.7730\t0.8484\n",
      "Tajik          \t0.9948\t0.0009\t0.4444\t0.0018\n",
      "Tatar          \t0.9824\t0.6937\t0.2885\t0.4075\n",
      "Tuvan          \t0.9996\t0.0000\t0.0000\t0.0000\n",
      "Ukrainian      \t0.9198\t0.4094\t0.3806\t0.3945\n",
      "Uzbek          \t0.9968\t"
     ]
    },
    {
     "name": "stderr",
     "output_type": "stream",
     "text": [
      "C:\\Users\\DT6\\anaconda3\\envs\\ethnicNames\\lib\\site-packages\\sklearn\\metrics\\_classification.py:1221: UndefinedMetricWarning: Recall is ill-defined and being set to 0.0 due to no true samples. Use `zero_division` parameter to control this behavior.\n",
      "  _warn_prf(average, modifier, msg_start, len(result))\n"
     ]
    },
    {
     "name": "stdout",
     "output_type": "stream",
     "text": [
      "0.0098\t0.2364\t0.0189\n",
      "Yakut          \t0.9973\t0.1196\t0.0551\t0.0755\n"
     ]
    },
    {
     "name": "stderr",
     "output_type": "stream",
     "text": [
      "C:\\Users\\DT6\\anaconda3\\envs\\ethnicNames\\lib\\site-packages\\sklearn\\metrics\\_classification.py:1221: UndefinedMetricWarning: Recall is ill-defined and being set to 0.0 in labels with no true samples. Use `zero_division` parameter to control this behavior.\n",
      "  _warn_prf(average, modifier, msg_start, len(result))\n"
     ]
    },
    {
     "data": {
      "text/plain": [
       "{'accuracy': 0.6924115955673886,\n",
       " 'precision macro': 0.3532197608506878,\n",
       " 'recall macro': 0.4823918667523426,\n",
       " 'f1 macro': 0.34491056188981517}"
      ]
     },
     "execution_count": 21,
     "metadata": {},
     "output_type": "execute_result"
    }
   ],
   "source": [
    "test_model(clf, le, X_train, y_train)"
   ]
  },
  {
   "cell_type": "markdown",
   "metadata": {},
   "source": [
    "# Same things for aggregated setup"
   ]
  },
  {
   "cell_type": "code",
   "execution_count": 22,
   "metadata": {},
   "outputs": [],
   "source": [
    "df_agr = df\n",
    "df_agr.ethn = df.ethn.apply(aggregate_ethnos)\n",
    "df_translit_ru_agr = filter_data(df_agr)"
   ]
  },
  {
   "cell_type": "code",
   "execution_count": 23,
   "metadata": {},
   "outputs": [],
   "source": [
    "_, X_train_a, X_test_a, y_train_a, y_test_a = split_data(df_translit_ru_agr, test_size=0.0, le=le_a)"
   ]
  },
  {
   "cell_type": "code",
   "execution_count": 24,
   "metadata": {},
   "outputs": [],
   "source": [
    "X_train_a = X_train_a[:-1]\n",
    "y_train_a = y_train_a[:-1]"
   ]
  },
  {
   "cell_type": "code",
   "execution_count": 25,
   "metadata": {},
   "outputs": [
    {
     "data": {
      "image/png": "[encoded data removed]",
      "text/plain": [
       "<Figure size 504x302.4 with 1 Axes>"
      ]
     },
     "metadata": {},
     "output_type": "display_data"
    },
    {
     "name": "stdout",
     "output_type": "stream",
     "text": [
      "Ethnos          Acc\tPrec\tRec\tF1\n",
      "Armenian       \t0.9982\t0.8534\t0.6491\t0.7374\n",
      "Azerbaijani    \t0.9979\t0.0544\t0.3444\t0.0940\n",
      "BashTat        \t0.9870\t0.7789\t0.7457\t0.7619\n",
      "BelRusUkr      \t0.9407\t0.9678\t0.9604\t0.9641\n",
      "Buryat         \t0.9952\t0.3770\t0.4843\t0.4240\n",
      "CheDagIng      \t0.9777\t0.0556\t0.7833\t0.1039\n",
      "Georgian       \t0.9992\t0.7606\t0.8602\t0.8074\n",
      "Jewish         \t0.9700\t0.7407\t0.6470\t0.6907\n",
      "KabAdKarBalOs  \t0.9596\t0.8813\t0.4824\t0.6235\n",
      "Kalmyk         \t0.9975\t0.8054\t0.6609\t0.7260\n",
      "KazKyr         \t0.9880\t0.1130\t0.6294\t0.1916\n",
      "Moldovan       \t0.9928\t0.0859\t0.3238\t0.1358\n",
      "TajUzb         \t0.9909\t0.0063\t0.4034\t0.0124\n",
      "Tuvan          \t0.9997\t0.0000\t0.0000\t0.0000\n",
      "Yakut          \t0.9978\t"
     ]
    },
    {
     "name": "stderr",
     "output_type": "stream",
     "text": [
      "C:\\Users\\DT6\\anaconda3\\envs\\ethnicNames\\lib\\site-packages\\sklearn\\metrics\\_classification.py:1221: UndefinedMetricWarning: Recall is ill-defined and being set to 0.0 due to no true samples. Use `zero_division` parameter to control this behavior.\n",
      "  _warn_prf(average, modifier, msg_start, len(result))\n"
     ]
    },
    {
     "name": "stdout",
     "output_type": "stream",
     "text": [
      "0.1717\t0.0299\t0.0509\n"
     ]
    },
    {
     "name": "stderr",
     "output_type": "stream",
     "text": [
      "C:\\Users\\DT6\\anaconda3\\envs\\ethnicNames\\lib\\site-packages\\sklearn\\metrics\\_classification.py:1221: UndefinedMetricWarning: Recall is ill-defined and being set to 0.0 in labels with no true samples. Use `zero_division` parameter to control this behavior.\n",
      "  _warn_prf(average, modifier, msg_start, len(result))\n"
     ]
    },
    {
     "data": {
      "text/plain": [
       "{'accuracy': 0.8960436968707013,\n",
       " 'precision macro': 0.4434720943848608,\n",
       " 'recall macro': 0.5336157518872585,\n",
       " 'f1 macro': 0.4215694397495915}"
      ]
     },
     "execution_count": 25,
     "metadata": {},
     "output_type": "execute_result"
    }
   ],
   "source": [
    "test_model(clf_agr, le_a, X_train_a, y_train_a, 'cm_memo_agr.tif')"
   ]
  },
  {
   "cell_type": "code",
   "execution_count": null,
   "metadata": {},
   "outputs": [],
   "source": []
  }
 ],
 "metadata": {
  "kernelspec": {
   "display_name": "Python 3",
   "language": "python",
   "name": "python3"
  },
  "language_info": {
   "codemirror_mode": {
    "name": "ipython",
    "version": 3
   },
   "file_extension": ".py",
   "mimetype": "text/x-python",
   "name": "python",
   "nbconvert_exporter": "python",
   "pygments_lexer": "ipython3",
   "version": "3.7.9"
  }
 },
 "nbformat": 4,
 "nbformat_minor": 4
}
